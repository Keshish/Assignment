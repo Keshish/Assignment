{
 "cells": [
  {
   "cell_type": "code",
   "execution_count": 2,
   "metadata": {},
   "outputs": [
    {
     "name": "stdout",
     "output_type": "stream",
     "text": [
      "Root Mean Squared Error on Validation Set: 0.6259367164932004\n",
      "Predictions saved to stacking_predictions.csv\n"
     ]
    }
   ],
   "source": [
    "import pandas as pd\n",
    "import numpy as np\n",
    "from sklearn.model_selection import train_test_split\n",
    "from sklearn.ensemble import RandomForestRegressor, AdaBoostRegressor\n",
    "from sklearn.linear_model import LinearRegression\n",
    "from sklearn.metrics import mean_squared_error\n",
    "from sklearn.ensemble import StackingRegressor\n",
    "from sklearn.preprocessing import StandardScaler\n",
    "\n",
    "# Load training data\n",
    "x_train = pd.read_csv(\"./pc_X_train.csv\")\n",
    "y_train = pd.read_csv(\"./pc_Y_train.csv\")['score']\n",
    "\n",
    "# Convert 'score' column to object type\n",
    "y_train = y_train.astype(object)\n",
    "\n",
    "# Train-test split\n",
    "x_train, x_val, y_train, y_val = train_test_split(x_train, y_train, test_size=0.2, random_state=42)\n",
    "\n",
    "# Standardize the features\n",
    "scaler = StandardScaler()\n",
    "x_train_scaled = scaler.fit_transform(x_train)\n",
    "x_val_scaled = scaler.transform(x_val)\n",
    "\n",
    "# Base models\n",
    "base_models = [\n",
    "    ('random_forest', RandomForestRegressor(random_state=42)),\n",
    "    ('adaboost', AdaBoostRegressor(random_state=42))\n",
    "]\n",
    "\n",
    "# Meta-model\n",
    "meta_model = LinearRegression()\n",
    "\n",
    "# StackingRegressor\n",
    "stacking_regressor = StackingRegressor(estimators=base_models, final_estimator=meta_model)\n",
    "\n",
    "# Train the stacking model\n",
    "stacking_regressor.fit(x_train_scaled, y_train)\n",
    "\n",
    "# Make predictions on the validation set\n",
    "y_val_pred = stacking_regressor.predict(x_val_scaled)\n",
    "\n",
    "# Calculate RMSE on the validation set\n",
    "rmse_val = np.sqrt(mean_squared_error(y_val, y_val_pred))\n",
    "print(\"Root Mean Squared Error on Validation Set:\", rmse_val)\n",
    "\n",
    "# Load the test data\n",
    "x_test = pd.read_csv(\"./pc_X_test.csv\")\n",
    "\n",
    "# Standardize the test features using the same scaler from the training set\n",
    "x_test_scaled = scaler.transform(x_test)\n",
    "\n",
    "# Make predictions on the test set\n",
    "y_test_pred = stacking_regressor.predict(x_test_scaled)\n",
    "\n",
    "# Save predictions to a CSV file\n",
    "predictions_df = pd.DataFrame({'Id': x_test['id'], 'score': y_test_pred})\n",
    "predictions_df.to_csv('stacking_predictions.csv', index=False)\n",
    "\n",
    "print(\"Predictions saved to stacking_predictions.csv\")\n"
   ]
  }
 ],
 "metadata": {
  "kernelspec": {
   "display_name": "Python 3",
   "language": "python",
   "name": "python3"
  },
  "language_info": {
   "codemirror_mode": {
    "name": "ipython",
    "version": 3
   },
   "file_extension": ".py",
   "mimetype": "text/x-python",
   "name": "python",
   "nbconvert_exporter": "python",
   "pygments_lexer": "ipython3",
   "version": "3.12.0"
  }
 },
 "nbformat": 4,
 "nbformat_minor": 2
}
